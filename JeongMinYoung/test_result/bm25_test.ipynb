{
 "cells": [
  {
   "metadata": {
    "ExecuteTime": {
     "end_time": "2025-07-16T09:22:02.352237Z",
     "start_time": "2025-07-16T09:21:53.922389Z"
    }
   },
   "cell_type": "code",
   "source": [
    "import pandas as pd\n",
    "import numpy as np\n",
    "from utils1.retreiver_setting import faiss_retriever_loading\n",
    "from utils1.chain_setting import create_chain\n",
    "from transformers import BertTokenizer\n",
    "from rank_bm25 import BM25Okapi\n",
    "\n",
    "account_retriever, business_retriever, business_retriever2, self_retriever = faiss_retriever_loading()\n",
    "simple_chain, classification_chain, account_chain, extract_chain, business_chain, hybrid_chain, financial_chain = create_chain()"
   ],
   "id": "d674464fd6d4fc5a",
   "outputs": [],
   "execution_count": 68
  },
  {
   "metadata": {
    "ExecuteTime": {
     "end_time": "2025-07-16T09:22:02.365377Z",
     "start_time": "2025-07-16T09:22:02.357689Z"
    }
   },
   "cell_type": "code",
   "source": [
    "from transformers import BertTokenizer\n",
    "from rank_bm25 import BM25Okapi\n",
    "\n",
    "# 한국어 형태소 분석기\n",
    "def preprocess(text):\n",
    "    tokenizer = BertTokenizer.from_pretrained('kykim/bert-kor-base')\n",
    "    tokens = tokenizer.tokenize(text)  # BERT tokenizer로 단어 분리\n",
    "    return tokens\n",
    "\n",
    "# BM25 계산 함수\n",
    "def calculate_bm25(query, documents):\n",
    "    # 문서 토큰화 (BERT tokenizer 사용)\n",
    "    corpus = [preprocess(doc.page_content) for doc in documents]\n",
    "\n",
    "    # BM25 모델 적용\n",
    "    bm25 = BM25Okapi(corpus)\n",
    "\n",
    "    # 쿼리 토큰화 (BERT tokenizer 사용)\n",
    "    query_tokens = preprocess(query)  # 쿼리도 형태소 분석\n",
    "    scores = bm25.get_scores(query_tokens)\n",
    "\n",
    "    return scores\n",
    "\n",
    "# BM25 검색 함수\n",
    "def bm25_search(query, top_k=5):\n",
    "    documents = account_retriever.invoke(query)  # 문서 검색\n",
    "    bm25_scores = calculate_bm25(query, documents)  # BM25 점수 계산\n",
    "\n",
    "    # 문서 ID와 내용만 포함한 결과 반환\n",
    "    sorted_docs = sorted(zip(documents, bm25_scores), key=lambda x: x[1], reverse=True)[:top_k]\n",
    "    return [{'id': doc.id, 'content': doc.page_content} for doc, _ in sorted_docs]  # 문서 객체가 아닌, 문서 ID와 내용을 반환"
   ],
   "id": "94af5b30a06595c3",
   "outputs": [],
   "execution_count": 69
  },
  {
   "metadata": {},
   "cell_type": "markdown",
   "source": "",
   "id": "158e2a7929981c1b"
  },
  {
   "metadata": {
    "ExecuteTime": {
     "end_time": "2025-07-16T09:22:05.927076Z",
     "start_time": "2025-07-16T09:22:05.917246Z"
    }
   },
   "cell_type": "code",
   "source": [
    "def compute_metrics(predicted, relevant_dict, k=5):\n",
    "    \"\"\"\n",
    "    Precision@k, Recall@k, MRR, AP 계산\n",
    "    \"\"\"\n",
    "    # Precision@k: 상위 k 중 관련(grade>=1) 문서 비율\n",
    "    hits = sum([1 for doc in predicted[:k] if doc['id'] in relevant_dict])  # 'id'로 문서 ID 비교\n",
    "    precision = hits / k\n",
    "\n",
    "    # Recall@k: 관련 문서 총 개수 대비 상위 k 중 회수된 관련 개수\n",
    "    total_relevant = len(relevant_dict)\n",
    "    recall = hits / total_relevant if total_relevant > 0 else 0\n",
    "\n",
    "    # MRR: 첫 번째 관련 문서 위치 기반\n",
    "    rr = 0\n",
    "    for idx, doc in enumerate(predicted):\n",
    "        if doc['id'] in relevant_dict:  # 'id'로 문서 ID 비교\n",
    "            rr = 1 / (idx + 1)\n",
    "            break\n",
    "\n",
    "    # 단일 AP 계산 (MAP를 위해)\n",
    "    num_correct = 0\n",
    "    precisions = []\n",
    "    for i, doc in enumerate(predicted[:k]):\n",
    "        if doc['id'] in relevant_dict:  # 'id'로 문서 ID 비교\n",
    "            num_correct += 1\n",
    "            precisions.append(num_correct / (i + 1))\n",
    "    ap = np.mean(precisions) if precisions else 0\n",
    "\n",
    "    return precision, recall, rr, ap\n",
    "\n",
    "\n",
    "def evaluate_all(method_results, queries, k=5):\n",
    "    \"\"\"\n",
    "    모든 쿼리에 대해 성능 평가를 수행하고 평균을 계산합니다.\n",
    "    \"\"\"\n",
    "    prec_list, rec_list, rr_list, ap_list = [], [], [], []\n",
    "\n",
    "    for query in queries:\n",
    "        qid = query['query_id']\n",
    "        relevant_dict = parse_relevant(query['relevant_doc_ids'])\n",
    "        predicted = method_results[qid]\n",
    "\n",
    "        p, r, rr, ap = compute_metrics(predicted, relevant_dict, k)\n",
    "\n",
    "        prec_list.append(p)\n",
    "        rec_list.append(r)\n",
    "        rr_list.append(rr)\n",
    "        ap_list.append(ap)\n",
    "\n",
    "    # 평균 지표 반환\n",
    "    return {\n",
    "        'P@k': np.mean(prec_list),\n",
    "        'R@k': np.mean(rec_list),\n",
    "        'MRR': np.mean(rr_list),\n",
    "        'MAP': np.mean(ap_list)\n",
    "    }"
   ],
   "id": "309913f0ba5f7a5c",
   "outputs": [],
   "execution_count": 70
  },
  {
   "metadata": {
    "ExecuteTime": {
     "end_time": "2025-07-16T09:22:09.158802Z",
     "start_time": "2025-07-16T09:22:06.061510Z"
    }
   },
   "cell_type": "code",
   "source": [
    "# 예시로 주어진 queries 리스트\n",
    "queries = [\n",
    "    {\"query_id\": \"Q1\", \"query_text\": \"기업회계기준서 제1109호 금융상품 관련\", \"relevant_doc_ids\": \"a9792da2-2636-400e-a37b-6d7ce7547778=1\"},\n",
    "    {\"query_id\": \"Q2\", \"query_text\": \"사업결합 관련 기업회계기준서\", \"relevant_doc_ids\": \"27da9efc-1aa5-4ab3-98f0-3a0e10ba2b9c=1;256e05b0-43a5-43d4-b696-7c7405abc463=2\"},\n",
    "    {\"query_id\": \"Q3\", \"query_text\": \"회계정책과 회계추정치 변경 관련\", \"relevant_doc_ids\": \"19df546f-a4ce-4b40-8971-2730cc6e24f4=1;256e05b0-43a5-43d4-b696-7c7405abc463=2\"},\n",
    "    {\"query_id\": \"Q4\", \"query_text\": \"농림어업 관련 회계기준서\", \"relevant_doc_ids\": \"f15bf88e-1f13-44d2-88fb-0ea1f67633cc=1;5e47c132-1b65-4476-bdac-6fc5b4089fea=2\"}\n",
    "]\n",
    "\n",
    "\n",
    "def handle_accounting_non_bm25(question: str) -> list:\n",
    "    \"\"\"\n",
    "    BM25를 사용하지 않고 회계 질문에 답변하는 함수\n",
    "    \"\"\"\n",
    "    # 문서 가져오기 (BM25 미적용, 상위 5개 문서만 가져옴)\n",
    "    docs = account_retriever.invoke(question)\n",
    "    docs = docs[:5]  # BM25 적용하지 않으면 그냥 상위 5개 문서\n",
    "    return [{'id': doc.id, 'content': doc.page_content} for doc in docs]\n",
    "\n",
    "def parse_relevant(relevant_doc_ids):\n",
    "    return {doc_id.split('=')[0] for doc_id in relevant_doc_ids.split(';')}\n",
    "\n",
    "# BM25 계산 함수 예시\n",
    "from rank_bm25 import BM25Okapi\n",
    "\n",
    "def calculate_bm25(query, documents):\n",
    "    corpus = [doc.page_content.split() for doc in documents]\n",
    "    bm25 = BM25Okapi(corpus)\n",
    "    query_tokens = query.split()  # query를 토큰화\n",
    "    scores = bm25.get_scores(query_tokens)\n",
    "    return scores\n",
    "\n",
    "\n",
    "# 평가\n",
    "bm25_results = {}\n",
    "for query in queries:\n",
    "    qid = query['query_id']\n",
    "    query_text = query['query_text']\n",
    "    bm25_results[qid] = bm25_search(query_text, top_k=5)\n",
    "\n",
    "# Non-BM25 평가\n",
    "non_bm25_results = {}\n",
    "for query in queries:\n",
    "    qid = query['query_id']\n",
    "    query_text = query['query_text']\n",
    "    non_bm25_results[qid] = handle_accounting_non_bm25(query_text)\n",
    "\n",
    "bm25_evaluation = evaluate_all(bm25_results, queries, k=5)\n",
    "non_bm25_evaluation = evaluate_all(non_bm25_results, queries, k=5)\n",
    "\n",
    "print(\"BM25 Evaluation:\", bm25_evaluation)\n",
    "print(\"Non-BM25 Evaluation:\", non_bm25_evaluation)"
   ],
   "id": "a5eeb7b832a1d11f",
   "outputs": [
    {
     "name": "stdout",
     "output_type": "stream",
     "text": [
      "BM25 Evaluation: {'P@k': np.float64(0.05), 'R@k': np.float64(0.125), 'MRR': np.float64(0.0625), 'MAP': np.float64(0.0625)}\n",
      "Non-BM25 Evaluation: {'P@k': np.float64(0.15000000000000002), 'R@k': np.float64(0.375), 'MRR': np.float64(0.4583333333333333), 'MAP': np.float64(0.4583333333333333)}\n"
     ]
    }
   ],
   "execution_count": 71
  },
  {
   "metadata": {
    "ExecuteTime": {
     "end_time": "2025-07-16T09:22:09.192742Z",
     "start_time": "2025-07-16T09:22:09.181708Z"
    }
   },
   "cell_type": "code",
   "source": "pd.DataFrame([bm25_evaluation, non_bm25_evaluation], index=['BM25', 'Non-BM25'])",
   "id": "90c38197242b3c9b",
   "outputs": [
    {
     "data": {
      "text/plain": [
       "           P@k    R@k       MRR       MAP\n",
       "BM25      0.05  0.125  0.062500  0.062500\n",
       "Non-BM25  0.15  0.375  0.458333  0.458333"
      ],
      "text/html": [
       "<div>\n",
       "<style scoped>\n",
       "    .dataframe tbody tr th:only-of-type {\n",
       "        vertical-align: middle;\n",
       "    }\n",
       "\n",
       "    .dataframe tbody tr th {\n",
       "        vertical-align: top;\n",
       "    }\n",
       "\n",
       "    .dataframe thead th {\n",
       "        text-align: right;\n",
       "    }\n",
       "</style>\n",
       "<table border=\"1\" class=\"dataframe\">\n",
       "  <thead>\n",
       "    <tr style=\"text-align: right;\">\n",
       "      <th></th>\n",
       "      <th>P@k</th>\n",
       "      <th>R@k</th>\n",
       "      <th>MRR</th>\n",
       "      <th>MAP</th>\n",
       "    </tr>\n",
       "  </thead>\n",
       "  <tbody>\n",
       "    <tr>\n",
       "      <th>BM25</th>\n",
       "      <td>0.05</td>\n",
       "      <td>0.125</td>\n",
       "      <td>0.062500</td>\n",
       "      <td>0.062500</td>\n",
       "    </tr>\n",
       "    <tr>\n",
       "      <th>Non-BM25</th>\n",
       "      <td>0.15</td>\n",
       "      <td>0.375</td>\n",
       "      <td>0.458333</td>\n",
       "      <td>0.458333</td>\n",
       "    </tr>\n",
       "  </tbody>\n",
       "</table>\n",
       "</div>"
      ]
     },
     "execution_count": 72,
     "metadata": {},
     "output_type": "execute_result"
    }
   ],
   "execution_count": 72
  }
 ],
 "metadata": {
  "kernelspec": {
   "display_name": "Python 3",
   "language": "python",
   "name": "python3"
  },
  "language_info": {
   "codemirror_mode": {
    "name": "ipython",
    "version": 2
   },
   "file_extension": ".py",
   "mimetype": "text/x-python",
   "name": "python",
   "nbconvert_exporter": "python",
   "pygments_lexer": "ipython2",
   "version": "2.7.6"
  }
 },
 "nbformat": 4,
 "nbformat_minor": 5
}
