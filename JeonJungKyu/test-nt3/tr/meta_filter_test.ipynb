{
 "cells": [
  {
   "metadata": {
    "ExecuteTime": {
     "end_time": "2025-07-16T00:45:43.003056Z",
     "start_time": "2025-07-16T00:45:41.064571Z"
    }
   },
   "cell_type": "code",
   "source": "!pip install lark",
   "id": "4cd1fe2a366e4d05",
   "outputs": [
    {
     "name": "stdout",
     "output_type": "stream",
     "text": [
      "Requirement already satisfied: lark in c:\\users\\playdata\\anaconda3\\envs\\teamproject\\lib\\site-packages (1.2.2)\n"
     ]
    }
   ],
   "execution_count": 4
  },
  {
   "cell_type": "code",
   "id": "initial_id",
   "metadata": {
    "collapsed": true,
    "ExecuteTime": {
     "end_time": "2025-07-16T00:45:46.322454Z",
     "start_time": "2025-07-16T00:45:46.316741Z"
    }
   },
   "source": "from utils1.retreiver_setting import faiss_retriever_loading",
   "outputs": [],
   "execution_count": 5
  },
  {
   "metadata": {
    "ExecuteTime": {
     "end_time": "2025-07-16T00:46:24.807323Z",
     "start_time": "2025-07-16T00:46:24.745155Z"
    }
   },
   "cell_type": "code",
   "source": "import lark",
   "id": "872df503363ba318",
   "outputs": [],
   "execution_count": 7
  },
  {
   "metadata": {
    "ExecuteTime": {
     "end_time": "2025-07-16T00:50:20.420929Z",
     "start_time": "2025-07-16T00:50:13.085422Z"
    }
   },
   "cell_type": "code",
   "source": "account_retriever, business_retriever, business_retriever2, self_retriever = faiss_retriever_loading()",
   "id": "b14f5a8fef00d341",
   "outputs": [
    {
     "ename": "ImportError",
     "evalue": "Cannot import lark, please install it with 'pip install lark'.",
     "output_type": "error",
     "traceback": [
      "\u001B[31m---------------------------------------------------------------------------\u001B[39m",
      "\u001B[31mImportError\u001B[39m                               Traceback (most recent call last)",
      "\u001B[36mCell\u001B[39m\u001B[36m \u001B[39m\u001B[32mIn[9]\u001B[39m\u001B[32m, line 1\u001B[39m\n\u001B[32m----> \u001B[39m\u001B[32m1\u001B[39m account_retriever, business_retriever, business_retriever2, self_retriever = \u001B[43mfaiss_retriever_loading\u001B[49m\u001B[43m(\u001B[49m\u001B[43m)\u001B[49m\n",
      "\u001B[36mFile \u001B[39m\u001B[32m~\\Documents\\SKN14-3rd-2Team\\JeongMinYoung\\utils1\\retreiver_setting.py:169\u001B[39m, in \u001B[36mfaiss_retriever_loading\u001B[39m\u001B[34m()\u001B[39m\n\u001B[32m    140\u001B[39m \u001B[38;5;250m\u001B[39m\u001B[33;03m'''\u001B[39;00m\n\u001B[32m    141\u001B[39m \u001B[33;03mmetadata_field_info = [\u001B[39;00m\n\u001B[32m    142\u001B[39m \u001B[33;03m    AttributeInfo(\u001B[39;00m\n\u001B[32m   (...)\u001B[39m\u001B[32m    164\u001B[39m \u001B[33;03m]\u001B[39;00m\n\u001B[32m    165\u001B[39m \u001B[33;03m'''\u001B[39;00m\n\u001B[32m    167\u001B[39m \u001B[38;5;66;03m# SelfQueryRetriever 객체생성\u001B[39;00m\n\u001B[32m--> \u001B[39m\u001B[32m169\u001B[39m self_query_retriever = \u001B[43mSelfQueryRetriever\u001B[49m\u001B[43m.\u001B[49m\u001B[43mfrom_llm\u001B[49m\u001B[43m(\u001B[49m\n\u001B[32m    170\u001B[39m \u001B[43m    \u001B[49m\u001B[43mllm\u001B[49m\u001B[43m=\u001B[49m\u001B[43mChatOpenAI\u001B[49m\u001B[43m(\u001B[49m\u001B[43mmodel\u001B[49m\u001B[43m=\u001B[49m\u001B[33;43m'\u001B[39;49m\u001B[33;43mgpt-4o-mini\u001B[39;49m\u001B[33;43m'\u001B[39;49m\u001B[43m,\u001B[49m\u001B[43m \u001B[49m\u001B[43mtemperature\u001B[49m\u001B[43m=\u001B[49m\u001B[32;43m0\u001B[39;49m\u001B[43m)\u001B[49m\u001B[43m,\u001B[49m\n\u001B[32m    171\u001B[39m \u001B[43m    \u001B[49m\u001B[43mvectorstore\u001B[49m\u001B[43m=\u001B[49m\u001B[43mvector_db3\u001B[49m\u001B[43m,\u001B[49m\n\u001B[32m    172\u001B[39m \u001B[43m    \u001B[49m\u001B[43mdocument_contents\u001B[49m\u001B[43m=\u001B[49m\u001B[33;43m'\u001B[39;49m\u001B[33;43mpage_content\u001B[39;49m\u001B[33;43m'\u001B[39;49m\u001B[43m,\u001B[49m\u001B[43m  \u001B[49m\u001B[38;5;66;43;03m# 문서 내용을 가리키는 메타데이터 필드명\u001B[39;49;00m\n\u001B[32m    173\u001B[39m \u001B[43m    \u001B[49m\u001B[43mmetadata_field_info\u001B[49m\u001B[43m=\u001B[49m\u001B[43mmetadata_field_info\u001B[49m\u001B[43m,\u001B[49m\n\u001B[32m    174\u001B[39m \u001B[43m    \u001B[49m\u001B[43msearch_kwargs\u001B[49m\u001B[43m=\u001B[49m\u001B[43m{\u001B[49m\u001B[33;43m\"\u001B[39;49m\u001B[33;43mk\u001B[39;49m\u001B[33;43m\"\u001B[39;49m\u001B[43m:\u001B[49m\u001B[43m \u001B[49m\u001B[32;43m10\u001B[39;49m\u001B[43m}\u001B[49m\n\u001B[32m    175\u001B[39m \u001B[43m\u001B[49m\u001B[43m)\u001B[49m\n\u001B[32m    179\u001B[39m \u001B[38;5;28;01mreturn\u001B[39;00m accounting_retriever, business_retriever, business_retriever2, self_query_retriever\n",
      "\u001B[36mFile \u001B[39m\u001B[32m~\\anaconda3\\envs\\teamproject\\Lib\\site-packages\\langchain\\retrievers\\self_query\\base.py:370\u001B[39m, in \u001B[36mSelfQueryRetriever.from_llm\u001B[39m\u001B[34m(cls, llm, vectorstore, document_contents, metadata_field_info, structured_query_translator, chain_kwargs, enable_limit, use_original_query, **kwargs)\u001B[39m\n\u001B[32m    363\u001B[39m \u001B[38;5;28;01mif\u001B[39;00m (\n\u001B[32m    364\u001B[39m     \u001B[33m\"\u001B[39m\u001B[33mallowed_operators\u001B[39m\u001B[33m\"\u001B[39m \u001B[38;5;129;01mnot\u001B[39;00m \u001B[38;5;129;01min\u001B[39;00m chain_kwargs\n\u001B[32m    365\u001B[39m     \u001B[38;5;129;01mand\u001B[39;00m structured_query_translator.allowed_operators \u001B[38;5;129;01mis\u001B[39;00m \u001B[38;5;129;01mnot\u001B[39;00m \u001B[38;5;28;01mNone\u001B[39;00m\n\u001B[32m    366\u001B[39m ):\n\u001B[32m    367\u001B[39m     chain_kwargs[\u001B[33m\"\u001B[39m\u001B[33mallowed_operators\u001B[39m\u001B[33m\"\u001B[39m] = (\n\u001B[32m    368\u001B[39m         structured_query_translator.allowed_operators\n\u001B[32m    369\u001B[39m     )\n\u001B[32m--> \u001B[39m\u001B[32m370\u001B[39m query_constructor = \u001B[43mload_query_constructor_runnable\u001B[49m\u001B[43m(\u001B[49m\n\u001B[32m    371\u001B[39m \u001B[43m    \u001B[49m\u001B[43mllm\u001B[49m\u001B[43m,\u001B[49m\n\u001B[32m    372\u001B[39m \u001B[43m    \u001B[49m\u001B[43mdocument_contents\u001B[49m\u001B[43m,\u001B[49m\n\u001B[32m    373\u001B[39m \u001B[43m    \u001B[49m\u001B[43mmetadata_field_info\u001B[49m\u001B[43m,\u001B[49m\n\u001B[32m    374\u001B[39m \u001B[43m    \u001B[49m\u001B[43menable_limit\u001B[49m\u001B[43m=\u001B[49m\u001B[43menable_limit\u001B[49m\u001B[43m,\u001B[49m\n\u001B[32m    375\u001B[39m \u001B[43m    \u001B[49m\u001B[43m*\u001B[49m\u001B[43m*\u001B[49m\u001B[43mchain_kwargs\u001B[49m\u001B[43m,\u001B[49m\n\u001B[32m    376\u001B[39m \u001B[43m\u001B[49m\u001B[43m)\u001B[49m\n\u001B[32m    377\u001B[39m query_constructor = query_constructor.with_config(\n\u001B[32m    378\u001B[39m     run_name=QUERY_CONSTRUCTOR_RUN_NAME\n\u001B[32m    379\u001B[39m )\n\u001B[32m    380\u001B[39m \u001B[38;5;28;01mreturn\u001B[39;00m \u001B[38;5;28mcls\u001B[39m(  \u001B[38;5;66;03m# type: ignore[call-arg]\u001B[39;00m\n\u001B[32m    381\u001B[39m     query_constructor=query_constructor,\n\u001B[32m    382\u001B[39m     vectorstore=vectorstore,\n\u001B[32m   (...)\u001B[39m\u001B[32m    385\u001B[39m     **kwargs,\n\u001B[32m    386\u001B[39m )\n",
      "\u001B[36mFile \u001B[39m\u001B[32m~\\anaconda3\\envs\\teamproject\\Lib\\site-packages\\langchain\\chains\\query_constructor\\base.py:369\u001B[39m, in \u001B[36mload_query_constructor_runnable\u001B[39m\u001B[34m(llm, document_contents, attribute_info, examples, allowed_comparators, allowed_operators, enable_limit, schema_prompt, fix_invalid, **kwargs)\u001B[39m\n\u001B[32m    365\u001B[39m \u001B[38;5;28;01mfor\u001B[39;00m ainfo \u001B[38;5;129;01min\u001B[39;00m attribute_info:\n\u001B[32m    366\u001B[39m     allowed_attributes.append(\n\u001B[32m    367\u001B[39m         ainfo.name \u001B[38;5;28;01mif\u001B[39;00m \u001B[38;5;28misinstance\u001B[39m(ainfo, AttributeInfo) \u001B[38;5;28;01melse\u001B[39;00m ainfo[\u001B[33m\"\u001B[39m\u001B[33mname\u001B[39m\u001B[33m\"\u001B[39m]\n\u001B[32m    368\u001B[39m     )\n\u001B[32m--> \u001B[39m\u001B[32m369\u001B[39m output_parser = \u001B[43mStructuredQueryOutputParser\u001B[49m\u001B[43m.\u001B[49m\u001B[43mfrom_components\u001B[49m\u001B[43m(\u001B[49m\n\u001B[32m    370\u001B[39m \u001B[43m    \u001B[49m\u001B[43mallowed_comparators\u001B[49m\u001B[43m=\u001B[49m\u001B[43mallowed_comparators\u001B[49m\u001B[43m,\u001B[49m\n\u001B[32m    371\u001B[39m \u001B[43m    \u001B[49m\u001B[43mallowed_operators\u001B[49m\u001B[43m=\u001B[49m\u001B[43mallowed_operators\u001B[49m\u001B[43m,\u001B[49m\n\u001B[32m    372\u001B[39m \u001B[43m    \u001B[49m\u001B[43mallowed_attributes\u001B[49m\u001B[43m=\u001B[49m\u001B[43mallowed_attributes\u001B[49m\u001B[43m,\u001B[49m\n\u001B[32m    373\u001B[39m \u001B[43m    \u001B[49m\u001B[43mfix_invalid\u001B[49m\u001B[43m=\u001B[49m\u001B[43mfix_invalid\u001B[49m\u001B[43m,\u001B[49m\n\u001B[32m    374\u001B[39m \u001B[43m\u001B[49m\u001B[43m)\u001B[49m\n\u001B[32m    375\u001B[39m \u001B[38;5;28;01mreturn\u001B[39;00m prompt | llm | output_parser\n",
      "\u001B[36mFile \u001B[39m\u001B[32m~\\anaconda3\\envs\\teamproject\\Lib\\site-packages\\langchain\\chains\\query_constructor\\base.py:102\u001B[39m, in \u001B[36mStructuredQueryOutputParser.from_components\u001B[39m\u001B[34m(cls, allowed_comparators, allowed_operators, allowed_attributes, fix_invalid)\u001B[39m\n\u001B[32m     99\u001B[39m         \u001B[38;5;28;01mreturn\u001B[39;00m fixed\n\u001B[32m    101\u001B[39m \u001B[38;5;28;01melse\u001B[39;00m:\n\u001B[32m--> \u001B[39m\u001B[32m102\u001B[39m     ast_parse = \u001B[43mget_parser\u001B[49m\u001B[43m(\u001B[49m\n\u001B[32m    103\u001B[39m \u001B[43m        \u001B[49m\u001B[43mallowed_comparators\u001B[49m\u001B[43m=\u001B[49m\u001B[43mallowed_comparators\u001B[49m\u001B[43m,\u001B[49m\n\u001B[32m    104\u001B[39m \u001B[43m        \u001B[49m\u001B[43mallowed_operators\u001B[49m\u001B[43m=\u001B[49m\u001B[43mallowed_operators\u001B[49m\u001B[43m,\u001B[49m\n\u001B[32m    105\u001B[39m \u001B[43m        \u001B[49m\u001B[43mallowed_attributes\u001B[49m\u001B[43m=\u001B[49m\u001B[43mallowed_attributes\u001B[49m\u001B[43m,\u001B[49m\n\u001B[32m    106\u001B[39m \u001B[43m    \u001B[49m\u001B[43m)\u001B[49m.parse\n\u001B[32m    107\u001B[39m \u001B[38;5;28;01mreturn\u001B[39;00m \u001B[38;5;28mcls\u001B[39m(ast_parse=ast_parse)\n",
      "\u001B[36mFile \u001B[39m\u001B[32m~\\anaconda3\\envs\\teamproject\\Lib\\site-packages\\langchain\\chains\\query_constructor\\parser.py:197\u001B[39m, in \u001B[36mget_parser\u001B[39m\u001B[34m(allowed_comparators, allowed_operators, allowed_attributes)\u001B[39m\n\u001B[32m    195\u001B[39m \u001B[38;5;66;03m# QueryTransformer is None when Lark cannot be imported.\u001B[39;00m\n\u001B[32m    196\u001B[39m \u001B[38;5;28;01mif\u001B[39;00m QueryTransformer \u001B[38;5;129;01mis\u001B[39;00m \u001B[38;5;28;01mNone\u001B[39;00m:\n\u001B[32m--> \u001B[39m\u001B[32m197\u001B[39m     \u001B[38;5;28;01mraise\u001B[39;00m \u001B[38;5;167;01mImportError\u001B[39;00m(\n\u001B[32m    198\u001B[39m         \u001B[33m\"\u001B[39m\u001B[33mCannot import lark, please install it with \u001B[39m\u001B[33m'\u001B[39m\u001B[33mpip install lark\u001B[39m\u001B[33m'\u001B[39m\u001B[33m.\u001B[39m\u001B[33m\"\u001B[39m\n\u001B[32m    199\u001B[39m     )\n\u001B[32m    200\u001B[39m transformer = QueryTransformer(\n\u001B[32m    201\u001B[39m     allowed_comparators=allowed_comparators,\n\u001B[32m    202\u001B[39m     allowed_operators=allowed_operators,\n\u001B[32m    203\u001B[39m     allowed_attributes=allowed_attributes,\n\u001B[32m    204\u001B[39m )\n\u001B[32m    205\u001B[39m \u001B[38;5;28;01mreturn\u001B[39;00m Lark(GRAMMAR, parser=\u001B[33m\"\u001B[39m\u001B[33mlalr\u001B[39m\u001B[33m\"\u001B[39m, transformer=transformer, start=\u001B[33m\"\u001B[39m\u001B[33mprogram\u001B[39m\u001B[33m\"\u001B[39m)\n",
      "\u001B[31mImportError\u001B[39m: Cannot import lark, please install it with 'pip install lark'."
     ]
    }
   ],
   "execution_count": 9
  },
  {
   "metadata": {
    "ExecuteTime": {
     "end_time": "2025-07-15T17:35:09.017816Z",
     "start_time": "2025-07-15T17:35:09.003646Z"
    }
   },
   "cell_type": "code",
   "source": [
    "queries_and_answers = [\n",
    "    (\"삼성바이오로직스 2024년 연결 당기순이익\", [\"삼성바이오로직스\", \"2024\", \"연결\", \"당기순이익\"]),\n",
    "    (\"2024년 LG전자 연구개발 활동\", [\"2024\", \"LG전자\", \"연구개발\"]),\n",
    "    (\"2023년 카카오 주요사항 요약\", [\"2023\", \"카카오\", \"주요사항\"]),\n",
    "    (\"NAVER 2024년 EPS는 얼마야?\", [\"NAVER\", \"2024\", \"주당순이익\"]),\n",
    "    (\"SK하이닉스 2023년 배당금 정보 알려줘\", [\"SK하이닉스\", \"2023\", \"배당금\"]),\n",
    "    (\"현대차 2024년 주당액면가액은?\", [\"현대차\", \"2024\", \"주당액면가액\"]),\n",
    "    (\"LG화학의 2022년 현금배당 내역\", [\"LG화학\", \"2022\", \"현금배당\"]),\n",
    "    (\"카카오 2024년 연구개발 투자 비율은?\", [\"카카오\", \"2024\", \"연구개발\", \"투자\", \"비율\"]),\n",
    "    (\"삼성전자 2023년 주요사항 정리해줘\", [\"삼성전자\", \"2023\", \"주요사항\"]),\n",
    "    (\"NAVER 2024년 연결 실적\", [\"NAVER\", \"2024\", \"연결\"]),\n",
    "    (\"LG에너지솔루션의 2023년 EPS\", [\"LG에너지솔루션\", \"2023\", \"주당순이익\"]),\n",
    "    (\"SK이노베이션 2024년 주식배당 수익률\", [\"SK이노베이션\", \"2024\", \"주식배당수익률\"]),\n",
    "    (\"2024년 현대모비스의 연구개발 성과\", [\"현대모비스\", \"2024\", \"연구개발\", \"성과\"]),\n",
    "    (\"카카오 2022년 별도 재무성과\", [\"카카오\", \"2022\", \"별도\"]),\n",
    "    (\"삼성바이오로직스의 2024년 R&D 투자\", [\"삼성바이오로직스\", \"2024\", \"연구개발\", \"투자\"]),\n",
    "]\n"
   ],
   "id": "a1a648e2b7848f3a",
   "outputs": [],
   "execution_count": 3
  },
  {
   "metadata": {
    "ExecuteTime": {
     "end_time": "2025-07-15T17:35:09.043988Z",
     "start_time": "2025-07-15T17:35:09.037375Z"
    }
   },
   "cell_type": "code",
   "source": [
    "from difflib import SequenceMatcher\n",
    "\n",
    "def evaluate_similarity_score(retriever, queries_and_answers):\n",
    "    scores = []\n",
    "    for query, expected_keywords in queries_and_answers:\n",
    "        docs = retriever.invoke(query)\n",
    "        all_text = \" \".join([doc.page_content for doc in docs])\n",
    "        score = sum(SequenceMatcher(None, all_text, kw).ratio() for kw in expected_keywords)\n",
    "        scores.append(score / len(expected_keywords))  # 평균 유사도\n",
    "    return sum(scores) / len(scores)  # 전체 평균\n"
   ],
   "id": "45abe9ab059476c5",
   "outputs": [],
   "execution_count": 4
  },
  {
   "metadata": {
    "ExecuteTime": {
     "end_time": "2025-07-15T17:35:09.078447Z",
     "start_time": "2025-07-15T17:35:09.066089Z"
    }
   },
   "cell_type": "code",
   "source": [
    "def evaluate_contains_score(retriever, queries_and_answers):\n",
    "    scores = []\n",
    "    for query, expected_keywords in queries_and_answers:\n",
    "        docs = retriever.invoke(query)\n",
    "        all_text = \" \".join([doc.page_content for doc in docs])\n",
    "        hit_count = sum(1 for kw in expected_keywords if kw in all_text)\n",
    "        scores.append(hit_count / len(expected_keywords))  # 포함된 키워드 비율\n",
    "    return sum(scores) / len(scores)  # 전체 평균\n"
   ],
   "id": "b425da791aefa7e1",
   "outputs": [],
   "execution_count": 5
  },
  {
   "metadata": {
    "ExecuteTime": {
     "end_time": "2025-07-15T17:36:35.002624Z",
     "start_time": "2025-07-15T17:35:09.100935Z"
    }
   },
   "cell_type": "code",
   "source": [
    "score1_sim = evaluate_similarity_score(business_retriever2, queries_and_answers)\n",
    "score1_contain = evaluate_contains_score(business_retriever2, queries_and_answers)\n",
    "\n",
    "score2_sim = evaluate_similarity_score(self_retriever, queries_and_answers)\n",
    "score2_contain = evaluate_contains_score(self_retriever, queries_and_answers)\n",
    "\n",
    "print(f\"📊 [No Metadata 필터]\")\n",
    "print(f\" - 유사도 평가 점수: {score1_sim:.3f}\")\n",
    "print(f\" - 키워드 포함 점수: {score1_contain:.3f}\")\n",
    "\n",
    "print(f\"📊 [With Metadata 필터]\")\n",
    "print(f\" - 유사도 평가 점수: {score2_sim:.3f}\")\n",
    "print(f\" - 키워드 포함 점수: {score2_contain:.3f}\")"
   ],
   "id": "eeeb50f3f494a3f1",
   "outputs": [
    {
     "name": "stdout",
     "output_type": "stream",
     "text": [
      "📊 [No Metadata 필터]\n",
      " - 유사도 평가 점수: 0.004\n",
      " - 키워드 포함 점수: 0.764\n",
      "📊 [With Metadata 필터]\n",
      " - 유사도 평가 점수: 0.004\n",
      " - 키워드 포함 점수: 0.644\n"
     ]
    }
   ],
   "execution_count": 6
  }
 ],
 "metadata": {
  "kernelspec": {
   "display_name": "Python 3",
   "language": "python",
   "name": "python3"
  },
  "language_info": {
   "codemirror_mode": {
    "name": "ipython",
    "version": 2
   },
   "file_extension": ".py",
   "mimetype": "text/x-python",
   "name": "python",
   "nbconvert_exporter": "python",
   "pygments_lexer": "ipython2",
   "version": "2.7.6"
  }
 },
 "nbformat": 4,
 "nbformat_minor": 5
}
